{
 "cells": [
  {
   "cell_type": "markdown",
   "id": "59fbf5ba",
   "metadata": {},
   "source": [
    "## Heatmap"
   ]
  },
  {
   "cell_type": "code",
   "execution_count": 1,
   "id": "29eaef24",
   "metadata": {
    "execution": {
     "iopub.execute_input": "2024-02-23T23:17:46.956835Z",
     "iopub.status.busy": "2024-02-23T23:17:46.956671Z",
     "iopub.status.idle": "2024-02-23T23:17:47.017412Z",
     "shell.execute_reply": "2024-02-23T23:17:47.017000Z"
    }
   },
   "outputs": [],
   "source": [
    "import numpy as np\n",
    "\n",
    "data = (\n",
    "    np.random.normal(size=(100, 3)) * np.array([[1, 1, 1]]) + np.array([[48, 5, 1]])\n",
    ").tolist()"
   ]
  },
  {
   "cell_type": "code",
   "execution_count": 2,
   "id": "94ae7c05",
   "metadata": {
    "execution": {
     "iopub.execute_input": "2024-02-23T23:17:47.020348Z",
     "iopub.status.busy": "2024-02-23T23:17:47.019482Z",
     "iopub.status.idle": "2024-02-23T23:17:47.428211Z",
     "shell.execute_reply": "2024-02-23T23:17:47.427790Z"
    }
   },
   "outputs": [
    {
     "data": {
      "text/html": [
       "<div style=\"width:100%;\"><div style=\"position:relative;width:100%;height:0;padding-bottom:60%;\"><span style=\"color:#565656\">Make this Notebook Trusted to load map: File -> Trust Notebook</span><iframe srcdoc=\"&lt;!DOCTYPE html&gt;\n",
       "&lt;html&gt;\n",
       "&lt;head&gt;\n",
       "    \n",
       "    &lt;meta http-equiv=&quot;content-type&quot; content=&quot;text/html; charset=UTF-8&quot; /&gt;\n",
       "    \n",
       "        &lt;script&gt;\n",
       "            L_NO_TOUCH = false;\n",
       "            L_DISABLE_3D = false;\n",
       "        &lt;/script&gt;\n",
       "    \n",
       "    &lt;style&gt;html, body {width: 100%;height: 100%;margin: 0;padding: 0;}&lt;/style&gt;\n",
       "    &lt;style&gt;#map {position:absolute;top:0;bottom:0;right:0;left:0;}&lt;/style&gt;\n",
       "    &lt;script src=&quot;https://cdn.jsdelivr.net/npm/leaflet@1.9.3/dist/leaflet.js&quot;&gt;&lt;/script&gt;\n",
       "    &lt;script src=&quot;https://code.jquery.com/jquery-3.7.1.min.js&quot;&gt;&lt;/script&gt;\n",
       "    &lt;script src=&quot;https://cdn.jsdelivr.net/npm/bootstrap@5.2.2/dist/js/bootstrap.bundle.min.js&quot;&gt;&lt;/script&gt;\n",
       "    &lt;script src=&quot;https://cdnjs.cloudflare.com/ajax/libs/Leaflet.awesome-markers/2.0.2/leaflet.awesome-markers.js&quot;&gt;&lt;/script&gt;\n",
       "    &lt;link rel=&quot;stylesheet&quot; href=&quot;https://cdn.jsdelivr.net/npm/leaflet@1.9.3/dist/leaflet.css&quot;/&gt;\n",
       "    &lt;link rel=&quot;stylesheet&quot; href=&quot;https://cdn.jsdelivr.net/npm/bootstrap@5.2.2/dist/css/bootstrap.min.css&quot;/&gt;\n",
       "    &lt;link rel=&quot;stylesheet&quot; href=&quot;https://netdna.bootstrapcdn.com/bootstrap/3.0.0/css/bootstrap.min.css&quot;/&gt;\n",
       "    &lt;link rel=&quot;stylesheet&quot; href=&quot;https://cdn.jsdelivr.net/npm/@fortawesome/fontawesome-free@6.2.0/css/all.min.css&quot;/&gt;\n",
       "    &lt;link rel=&quot;stylesheet&quot; href=&quot;https://cdnjs.cloudflare.com/ajax/libs/Leaflet.awesome-markers/2.0.2/leaflet.awesome-markers.css&quot;/&gt;\n",
       "    &lt;link rel=&quot;stylesheet&quot; href=&quot;https://cdn.jsdelivr.net/gh/python-visualization/folium/folium/templates/leaflet.awesome.rotate.min.css&quot;/&gt;\n",
       "    \n",
       "            &lt;meta name=&quot;viewport&quot; content=&quot;width=device-width,\n",
       "                initial-scale=1.0, maximum-scale=1.0, user-scalable=no&quot; /&gt;\n",
       "            &lt;style&gt;\n",
       "                #map_cd22d129d8c57cbac13eb0c7dcf00e42 {\n",
       "                    position: relative;\n",
       "                    width: 100.0%;\n",
       "                    height: 100.0%;\n",
       "                    left: 0.0%;\n",
       "                    top: 0.0%;\n",
       "                }\n",
       "                .leaflet-container { font-size: 1rem; }\n",
       "            &lt;/style&gt;\n",
       "        \n",
       "    &lt;script src=&quot;https://cdn.jsdelivr.net/gh/python-visualization/folium@main/folium/templates/leaflet_heat.min.js&quot;&gt;&lt;/script&gt;\n",
       "&lt;/head&gt;\n",
       "&lt;body&gt;\n",
       "    \n",
       "    \n",
       "            &lt;div class=&quot;folium-map&quot; id=&quot;map_cd22d129d8c57cbac13eb0c7dcf00e42&quot; &gt;&lt;/div&gt;\n",
       "        \n",
       "&lt;/body&gt;\n",
       "&lt;script&gt;\n",
       "    \n",
       "    \n",
       "            var map_cd22d129d8c57cbac13eb0c7dcf00e42 = L.map(\n",
       "                &quot;map_cd22d129d8c57cbac13eb0c7dcf00e42&quot;,\n",
       "                {\n",
       "                    center: [48.0, 5.0],\n",
       "                    crs: L.CRS.EPSG3857,\n",
       "                    zoom: 6,\n",
       "                    zoomControl: true,\n",
       "                    preferCanvas: false,\n",
       "                }\n",
       "            );\n",
       "\n",
       "            \n",
       "\n",
       "        \n",
       "    \n",
       "            var tile_layer_57d21cc0df11e2c025fa4e158dc26772 = L.tileLayer(\n",
       "                &quot;https://tile.openstreetmap.org/{z}/{x}/{y}.png&quot;,\n",
       "                {&quot;attribution&quot;: &quot;\\u0026copy; \\u003ca href=\\&quot;https://www.openstreetmap.org/copyright\\&quot;\\u003eOpenStreetMap\\u003c/a\\u003e contributors&quot;, &quot;detectRetina&quot;: false, &quot;maxNativeZoom&quot;: 19, &quot;maxZoom&quot;: 19, &quot;minZoom&quot;: 0, &quot;noWrap&quot;: false, &quot;opacity&quot;: 1, &quot;subdomains&quot;: &quot;abc&quot;, &quot;tms&quot;: false}\n",
       "            );\n",
       "        \n",
       "    \n",
       "            tile_layer_57d21cc0df11e2c025fa4e158dc26772.addTo(map_cd22d129d8c57cbac13eb0c7dcf00e42);\n",
       "        \n",
       "    \n",
       "            var heat_map_7aa1de5ecb894f50657bfa6de6aac378 = L.heatLayer(\n",
       "                [[48.42065948422741, 6.463959343199701, 0.055892622282483484], [50.04483682292823, 4.086421056897336, -0.01847751148301713], [50.55029509485296, 6.240889814458464, 0.3532898382251827], [47.883268351506906, 4.593020791663567, 0.7810686099647521], [47.904206683791536, 4.978502269917976, 0.6834531809326496], [47.12399874443695, 4.558137961697752, 1.3863141789427924], [49.58042797486976, 5.164616635300721, 1.513844487503509], [48.18299774802545, 5.325188537376279, 0.9815716246367143], [48.07673225913892, 4.034630024175647, 0.027896393535983277], [48.7717680121752, 2.737803206927964, 0.11257697975475611], [47.710407882787706, 3.7505779411846256, 1.5474658910210375], [48.94255128205477, 3.8986293484968186, -0.7198517137266589], [46.81483621427403, 4.695458000213318, 1.4695247296294647], [48.09989874138657, 4.91295209864334, 1.4337951676746714], [46.8975090662201, 6.310234008326517, 1.2876082534863948], [48.81740549211436, 5.3202894129255185, 1.8864506932609897], [47.58022403449291, 4.2977093977786796, 1.7819573077393178], [48.74649956711733, 4.664154978637731, 0.7937359476340295], [47.79974179111905, 6.002359246259271, 0.558954783775848], [47.16856584219237, 4.22263258615985, -0.4077398655435971], [47.94083403752834, 6.037428179786002, -0.37679501156964834], [48.360576306339176, 7.434652253188073, 1.1611697980166515], [47.681028439291204, 5.951088085066663, 3.613314609730027], [49.43468131927251, 4.786755946092313, 0.31474702774247654], [48.49248114944369, 3.7013159599779266, 1.003846233743444], [49.14701207700404, 4.566530992856785, 0.93925366898622], [48.56748302292108, 4.370911783524347, 0.6865918858150952], [48.798602486752486, 6.533349650671551, 1.5409117706913382], [47.403191424026254, 3.256910396986634, 0.10267289889065889], [45.4245137469498, 4.359764938662855, -0.7389885485266394], [46.371026168445326, 5.858560261122549, -0.5714427023084643], [47.75195759323971, 5.252319559298165, 3.3714865063701054], [48.06415713931646, 5.765861732770673, 1.1899629290118572], [49.65926190813229, 4.873552342554331, 0.6644025543425893], [49.04605451767275, 5.493692119587465, 0.03268146358120072], [47.49697359029872, 4.589570854374967, 1.0649159315878813], [47.08785815193031, 5.923072858767021, 3.1849079996720793], [47.49978845343114, 4.236361885605751, 0.2663862315198229], [48.96653609581775, 5.522464573809952, 2.2916727688650957], [48.307895357486814, 4.627492979104865, 0.09287179874413853], [48.206764552561765, 5.398786641754481, -1.2014356223677516], [50.08572754761005, 3.2580482028576885, 0.871728446465733], [48.871752785286425, 4.4282760765710805, 1.490784880570921], [47.489267367285, 4.824850047302949, 0.7905972003987926], [50.63418872008681, 4.4156476315202875, 0.38158204290989894], [48.44870746780126, 2.9698865792058706, 1.0356884917183076], [47.2013687825036, 3.611381617266594, 1.5104755407437283], [47.39669646515233, 3.5991531541689183, 1.1949564153553895], [47.95646374462844, 5.6314097023452865, 1.111003415251811], [47.56716444194535, 4.575240556230865, 1.9878151437284992], [49.84323323722268, 4.2167660416955135, -0.1472662311731734], [48.763291215679764, 4.334729154179488, -0.537823902767925], [47.825483757897366, 5.610486016131198, 1.9569987635336912], [46.86118504068569, 7.582403352075167, 1.890636128521931], [46.86778753186034, 6.923076844646907, 1.4878813876046986], [48.43567913609917, 4.923909395000265, 1.3679740544048236], [47.7832345415805, 5.417500892004222, 2.27456218991969], [46.406138738091116, 6.6787667659034256, 1.5084773838120058], [46.616876427286215, 5.744780611097163, 1.9015989166874436], [48.263015400510724, 2.892808967660149, 1.5751200165044288], [46.89386070886236, 4.5819567156534164, 1.0526172110597072], [48.049291457903585, 6.222349288516035, 2.04748251345287], [47.74128062280222, 4.706147216035145, 0.01415397845436972], [49.023235562641986, 5.368511714158348, 2.677005537324309], [48.03949156760106, 5.261847745316748, 1.7711558653348378], [47.53685727581608, 4.288344188638726, 0.5819132989573514], [47.47935245386703, 3.2486901411615943, 2.0834443011510517], [47.08556804273186, 5.1117092931438055, 2.460351962618751], [47.60559569563455, 6.5419024202666, 0.18131832017627048], [47.63873838971494, 5.004488576970704, 0.5362462742141989], [48.53545078006256, 4.7661172926388105, 0.09913186727867151], [47.031140481093864, 4.660478274339391, 0.8925816279754154], [49.233087130816436, 4.673724603858482, 2.341262519269277], [48.06893513316355, 5.513622647968714, 2.5455467655942083], [48.670772982316265, 4.208270837075111, 1.200125885459339], [48.54139464647475, 4.6937389140487555, 0.9716194225164493], [49.868125197525394, 4.543491321846704, 2.5629602852698374], [49.039054055171526, 5.6098797703955325, 2.8825293980550297], [47.69398263254109, 5.798277220335677, 0.7936890969137482], [48.14619890296056, 5.306163609279654, 1.8445952323862485], [47.39059262351681, 6.847598301745158, 0.6703048907046505], [47.31148616740004, 4.7034339119894, 0.9692998211784614], [48.112293540721794, 5.275577534609835, -0.30825940679287034], [49.85882220023037, 4.6923905999339, 0.06530353268242073], [47.5392314323137, 5.3083553318995556, -0.4016690740975424], [48.907097566662934, 4.966975524461681, 0.7812129397655915], [49.48178822994564, 4.793902616326285, 1.68872810555043], [47.43515279104031, 4.353503642431108, 2.478771698275432], [47.863114504838705, 4.824252232557835, 0.5833251397159367], [49.544892453815976, 4.872903694807116, 1.703846069926193], [48.13480227938078, 4.109756218482135, -0.5134654813295643], [49.75756549057602, 3.954741656549828, 1.7401883068041903], [48.03986864980377, 3.553804383157261, 1.7061850413134314], [47.83493198741291, 4.572303678225514, 0.7131850821796046], [49.111500953480984, 3.8219860314865812, 0.9890369173700051], [47.110457635942154, 5.4609812038081955, 2.8505418317814506], [47.873314891362845, 4.654260581729296, 0.9223091387891541], [49.667071771087116, 3.977582786308106, 1.0897120851071578], [48.440270278415646, 5.090038065329891, 1.4988176270519238], [48.23374600064912, 5.612200549071368, 1.8176599305499814]],\n",
       "                {&quot;blur&quot;: 15, &quot;maxZoom&quot;: 18, &quot;minOpacity&quot;: 0.5, &quot;radius&quot;: 25}\n",
       "            );\n",
       "        \n",
       "    \n",
       "            heat_map_7aa1de5ecb894f50657bfa6de6aac378.addTo(map_cd22d129d8c57cbac13eb0c7dcf00e42);\n",
       "        \n",
       "&lt;/script&gt;\n",
       "&lt;/html&gt;\" style=\"position:absolute;width:100%;height:100%;left:0;top:0;border:none !important;\" allowfullscreen webkitallowfullscreen mozallowfullscreen></iframe></div></div>"
      ],
      "text/plain": [
       "<folium.folium.Map at 0x7f34c05efaa0>"
      ]
     },
     "execution_count": 2,
     "metadata": {},
     "output_type": "execute_result"
    }
   ],
   "source": [
    "import folium\n",
    "from folium.plugins import HeatMap\n",
    "\n",
    "m = folium.Map([48.0, 5.0], zoom_start=6)\n",
    "\n",
    "HeatMap(data).add_to(m)\n",
    "\n",
    "m"
   ]
  }
 ],
 "metadata": {
  "jupytext": {
   "text_representation": {
    "extension": ".mystnb",
    "format_name": "myst"
   }
  },
  "language_info": {
   "codemirror_mode": {
    "name": "ipython",
    "version": 3
   },
   "file_extension": ".py",
   "mimetype": "text/x-python",
   "name": "python",
   "nbconvert_exporter": "python",
   "pygments_lexer": "ipython3",
   "version": "3.12.2"
  }
 },
 "nbformat": 4,
 "nbformat_minor": 5
}
